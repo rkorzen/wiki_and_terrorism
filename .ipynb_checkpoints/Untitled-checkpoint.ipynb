{
 "cells": [
  {
   "cell_type": "code",
   "execution_count": 1,
   "metadata": {
    "ExecuteTime": {
     "end_time": "2017-06-16T14:21:09.450523",
     "start_time": "2017-06-16T14:21:09.093572"
    },
    "collapsed": false,
    "run_control": {
     "frozen": false,
     "read_only": false
    }
   },
   "outputs": [],
   "source": [
    "import pandas as pd\n",
    "import numpy as np\n",
    "import re\n",
    "import seaborn as sns\n",
    "\n",
    "from ideology import ideology"
   ]
  },
  {
   "cell_type": "code",
   "execution_count": 2,
   "metadata": {
    "ExecuteTime": {
     "end_time": "2017-06-16T14:21:09.473768",
     "start_time": "2017-06-16T14:21:09.452263"
    },
    "collapsed": false
   },
   "outputs": [],
   "source": [
    "january = pd.read_csv('january.csv')\n",
    "february = pd.read_csv('february.csv')\n",
    "march = pd.read_csv('march.csv')\n",
    "april = pd.read_csv('april.csv')\n",
    "may = pd.read_csv('may.csv')\n",
    "june = pd.read_csv('june.csv')"
   ]
  },
  {
   "cell_type": "code",
   "execution_count": 3,
   "metadata": {
    "ExecuteTime": {
     "end_time": "2017-06-16T14:21:09.554445",
     "start_time": "2017-06-16T14:21:09.477249"
    },
    "collapsed": true
   },
   "outputs": [],
   "source": [
    "january.replace(to_replace='.*alt=\"([\\w\\s]+)\".*', value=r\"\\1\", regex=True, inplace=True)\n",
    "february.replace(to_replace='.*alt=\"([\\w\\s]+)\".*', value=r\"\\1\", regex=True, inplace=True)\n",
    "march.replace(to_replace='.*alt=\"([\\w\\s]+)\".*', value=r\"\\1\", regex=True, inplace=True)\n",
    "april.replace(to_replace='.*alt=\"([\\w\\s]+)\".*', value=r\"\\1\", regex=True, inplace=True)\n",
    "may.replace(to_replace='.*alt=\"([\\w\\s]+)\".*', value=r\"\\1\", regex=True, inplace=True)\n",
    "june.replace(to_replace='.*alt=\"([\\w\\s]+)\".*', value=r\"\\1\", regex=True, inplace=True)"
   ]
  },
  {
   "cell_type": "code",
   "execution_count": 4,
   "metadata": {
    "ExecuteTime": {
     "end_time": "2017-06-16T14:21:09.567275",
     "start_time": "2017-06-16T14:21:09.555843"
    },
    "collapsed": false
   },
   "outputs": [],
   "source": [
    "january.Date = january.Date.astype(str) + \".01.2017\"\n",
    "february.Date = february.Date.astype(str) + \".02.2017\"\n",
    "march.Date = march.Date.astype(str) + \".03.2017\"\n",
    "april.Date = april.Date.astype(str) + \".04.2017\"\n",
    "may.Date = may.Date.astype(str) + \".05.2017\"\n",
    "june.Date = june.Date.astype(str) + \".06.2017\""
   ]
  },
  {
   "cell_type": "code",
   "execution_count": 5,
   "metadata": {
    "ExecuteTime": {
     "end_time": "2017-06-16T14:21:09.609928",
     "start_time": "2017-06-16T14:21:09.569713"
    },
    "collapsed": false
   },
   "outputs": [
    {
     "data": {
      "text/html": [
       "<div>\n",
       "<table border=\"1\" class=\"dataframe\">\n",
       "  <thead>\n",
       "    <tr style=\"text-align: right;\">\n",
       "      <th></th>\n",
       "      <th>Date</th>\n",
       "      <th>Type</th>\n",
       "      <th>Dead</th>\n",
       "      <th>Injured</th>\n",
       "      <th>Location</th>\n",
       "      <th>Details</th>\n",
       "      <th>Perpetrator</th>\n",
       "      <th>Part of</th>\n",
       "    </tr>\n",
       "  </thead>\n",
       "  <tbody>\n",
       "    <tr>\n",
       "      <th>0</th>\n",
       "      <td>1.01.2017</td>\n",
       "      <td>Shooting</td>\n",
       "      <td>39</td>\n",
       "      <td>70</td>\n",
       "      <td>Turkey</td>\n",
       "      <td>2017 Istanbul nightclub shooting: One gunman k...</td>\n",
       "      <td>Islamic State</td>\n",
       "      <td>Turkey–ISIL conflict</td>\n",
       "    </tr>\n",
       "    <tr>\n",
       "      <th>1</th>\n",
       "      <td>1.01.2017</td>\n",
       "      <td>Bombing</td>\n",
       "      <td>0</td>\n",
       "      <td>6</td>\n",
       "      <td>Afghanistan</td>\n",
       "      <td>At least six people were hurt in an explosion ...</td>\n",
       "      <td>Taliban</td>\n",
       "      <td>War in Afghanistan</td>\n",
       "    </tr>\n",
       "    <tr>\n",
       "      <th>2</th>\n",
       "      <td>1.01.2017</td>\n",
       "      <td>Shooting</td>\n",
       "      <td>1</td>\n",
       "      <td>0</td>\n",
       "      <td>Burundi</td>\n",
       "      <td>The Burundian environmental minister Emmanuel ...</td>\n",
       "      <td>Lone wolf</td>\n",
       "      <td>Burundian unrest</td>\n",
       "    </tr>\n",
       "    <tr>\n",
       "      <th>3</th>\n",
       "      <td>1.01.2017</td>\n",
       "      <td>Bombing</td>\n",
       "      <td>0</td>\n",
       "      <td>6</td>\n",
       "      <td>Pakistan</td>\n",
       "      <td>Four Frontier Corps security personnel and two...</td>\n",
       "      <td>Lashkar-e-Jhangvi (suspected)</td>\n",
       "      <td>Sectarianism in Pakistan</td>\n",
       "    </tr>\n",
       "    <tr>\n",
       "      <th>4</th>\n",
       "      <td>1.01.2017</td>\n",
       "      <td>Bombing</td>\n",
       "      <td>1</td>\n",
       "      <td>7</td>\n",
       "      <td>Algeria</td>\n",
       "      <td>A bomb killed a child and injured 7 others.[6]</td>\n",
       "      <td>Al-Qaeda in the Islamic Maghreb (suspected)</td>\n",
       "      <td>Insurgency in the Maghreb</td>\n",
       "    </tr>\n",
       "  </tbody>\n",
       "</table>\n",
       "</div>"
      ],
      "text/plain": [
       "        Date      Type Dead Injured     Location  \\\n",
       "0  1.01.2017  Shooting   39      70       Turkey   \n",
       "1  1.01.2017   Bombing    0       6  Afghanistan   \n",
       "2  1.01.2017  Shooting    1       0      Burundi   \n",
       "3  1.01.2017   Bombing    0       6     Pakistan   \n",
       "4  1.01.2017   Bombing    1       7      Algeria   \n",
       "\n",
       "                                             Details  \\\n",
       "0  2017 Istanbul nightclub shooting: One gunman k...   \n",
       "1  At least six people were hurt in an explosion ...   \n",
       "2  The Burundian environmental minister Emmanuel ...   \n",
       "3  Four Frontier Corps security personnel and two...   \n",
       "4     A bomb killed a child and injured 7 others.[6]   \n",
       "\n",
       "                                   Perpetrator                    Part of  \n",
       "0                                Islamic State       Turkey–ISIL conflict  \n",
       "1                                      Taliban         War in Afghanistan  \n",
       "2                                    Lone wolf           Burundian unrest  \n",
       "3                Lashkar-e-Jhangvi (suspected)   Sectarianism in Pakistan  \n",
       "4  Al-Qaeda in the Islamic Maghreb (suspected)  Insurgency in the Maghreb  "
      ]
     },
     "execution_count": 5,
     "metadata": {},
     "output_type": "execute_result"
    }
   ],
   "source": [
    "frames = [january, february, march, april, may, june]\n",
    "df = pd.concat(frames)\n",
    "df.head()\n"
   ]
  },
  {
   "cell_type": "code",
   "execution_count": 6,
   "metadata": {
    "ExecuteTime": {
     "end_time": "2017-06-16T14:21:09.630635",
     "start_time": "2017-06-16T14:21:09.612841"
    },
    "collapsed": false
   },
   "outputs": [],
   "source": [
    "df.Date.loc[df['Date'] == '13-18.04.2017'] = '13.04.2017'\n",
    "df.Date.loc[df.Date == '6 or 7.01.2017'] = '6.01.2017'\n",
    "df.Date.loc[df.Date == '14-15.06.2017'] = '14.06.2017'\n",
    "df.Date.loc[df.Date == '2–3.06.2017'] = '2.06.2017'\n",
    "df.Date.loc[df['Date'] == '13-18.04.2017'] = '13.04.2017'\n",
    "\n"
   ]
  },
  {
   "cell_type": "code",
   "execution_count": 7,
   "metadata": {
    "ExecuteTime": {
     "end_time": "2017-06-16T14:21:09.734642",
     "start_time": "2017-06-16T14:21:09.633135"
    },
    "collapsed": false
   },
   "outputs": [
    {
     "data": {
      "text/plain": [
       "array(['39', '0', '1', '56 + (+3)', '7 + (+1)', '7 + (+3)', '3', '4', '2',\n",
       "       '2 + (+5)', '0 + (+3)', '27 + (+1)', '16', '2 + (+2)', '4 + (+2)',\n",
       "       '13', '6 + (+1)', '60', '5 + (+15)', '0 + (+2)', '5', '20 + (+2)',\n",
       "       '4 + (+1)', '8 + (+5)', '0 + (+1)', '3 + (+2)', '38 + (+1)', '12',\n",
       "       '8', '7 / 8 + (+1)', '6', '3 + (+10)', '17', '7', '9', '8 + (+2)',\n",
       "       '10 + (+1)', '0 + (+4)', '77 + (+1)', '1 + (+1)', '25', '43',\n",
       "       '28 + (+4)', '3 + (+1)', '4 + (+3)', '9 or 66 + (+70)', '2 + (+1)',\n",
       "       '4 + (+20)', '15', '2 + (+3)', '22 + (+1)', '27', '10', '5 + (+2)',\n",
       "       '12 + (+1)', '18 + (+1)', '5 + (+3)', '18', '59', '88 + (+1)',\n",
       "       '17 + (+21)', '2 + (+9)', '5 + (+1)', '39 + (+1)', '20', '11', '61',\n",
       "       '8 + (+1)', '32 + (+6)', '22 + (+2)', '5 + (+10)', '15 + (+2)',\n",
       "       '100', '1 + (+2)', '30 + (+2)', '74 + (+1)', '13 + (+1)',\n",
       "       '40 + (+2)', '6 + (+4)', '3 + (+6)', '23', '2 + (+7)', '3 + (+5)',\n",
       "       '10 + (+15)', '6 + (+6)', '40', '7 + (+4)', '10 + (+4)', '24',\n",
       "       '1 + (+3)', '2 + (+4)', '15 + (+1)', '35', '19', '0 + (+6)',\n",
       "       '9 + (+5)', '30 + (+1)', '17 + (+1)', '6 + (+8)', '126',\n",
       "       '256 + (+10)', '3 + (+3)', '25 + (+3-4)', '14', '37', '9 + (+40)',\n",
       "       '47', '1 + (+5)', '28 + (+1)', '9 + (+1)', '52 + (+15)', '(+3)',\n",
       "       '3 + (+4)', '141', '35 + (+4)', '16 + (+1)', '17 + (+4)',\n",
       "       '6 + (+5)', '28', '30', '150', '11 + (+2)', '20 + (+3)', '8 + (+3)',\n",
       "       '6 + (+2)', '18 + (+5)', '14 + (+3)', '9 + (+4)', '2 + (+10)',\n",
       "       '31 + (+5)'], dtype=object)"
      ]
     },
     "execution_count": 7,
     "metadata": {},
     "output_type": "execute_result"
    }
   ],
   "source": [
    "df.Dead.replace(to_replace='(\\d+) (\\(.*\\))', value=r\"\\1 + \\2\", regex=True, inplace=True)\n",
    "df.Injured.replace(to_replace='(\\d+) \\(\\+(\\d+)\\)', value=r\"\\1 + \\2\", regex=True, inplace=True)\n",
    "df.Dead.replace(to_replace='(\\d+)\\+', value=r\"\\1\", regex=True, inplace=True)\n",
    "df.Injured.replace(to_replace='(\\d+)\\+', value=r\"\\1\", regex=True, inplace=True)\n",
    "df.Dead.replace(to_replace='Unknown', value=None, inplace=True)\n",
    "df.Injured.replace(to_replace='Unknown', value=None, inplace=True)\n",
    "df.Dead.replace(to_replace='(\\d+) \\+ \\(\\+Unknown\\)', value=r\"\\1\", regex=True, inplace=True)\n",
    "df.Dead.replace(to_replace='(\\d+) \\(\\+Unknown\\)', value=r\"\\1\", regex=True, inplace=True)\n",
    "df.Dead.replace(to_replace='~(\\d+)', value=r\"\\1\", regex=True, inplace=True)\n",
    "\n",
    "df.Dead.replace(to_replace='(\\d+) (\\(.*\\))', value=r\"\\1 + \\2\", regex=True, inplace=True)\n",
    "df.Injured.replace(to_replace='(\\d+) \\(\\+(\\d+)\\)', value=r\"\\1 + \\2\", regex=True, inplace=True)\n",
    "df.Dead.replace(to_replace='(\\d+)\\+', value=r\"\\1\", regex=True, inplace=True)\n",
    "df.Injured.replace(to_replace='(\\d+)\\+', value=r\"\\1\", regex=True, inplace=True)\n",
    "df.Dead.replace(to_replace='Unknown', value=None, inplace=True)\n",
    "df.Injured.replace(to_replace='Unknown', value=None, inplace=True)\n",
    "df.Dead.replace(to_replace='(\\d+) \\+ \\(\\+Unknown\\)', value=r\"\\1\", regex=True, inplace=True)\n",
    "df.Dead.replace(to_replace='(\\d+) \\(\\+Unknown\\)', value=r\"\\1\", regex=True, inplace=True)\n",
    "df.Dead.replace(to_replace='~(\\d+)', value=r\"\\1\", regex=True, inplace=True)\n",
    "\n",
    "df.Dead.unique()"
   ]
  },
  {
   "cell_type": "code",
   "execution_count": 8,
   "metadata": {
    "ExecuteTime": {
     "end_time": "2017-06-16T14:21:09.746105",
     "start_time": "2017-06-16T14:21:09.736049"
    },
    "collapsed": false
   },
   "outputs": [],
   "source": [
    "df.Dead = df.Dead.loc[df.Dead != None].map(lambda x: eval(x))\n"
   ]
  },
  {
   "cell_type": "code",
   "execution_count": 9,
   "metadata": {
    "ExecuteTime": {
     "end_time": "2017-06-16T14:21:09.750499",
     "start_time": "2017-06-16T14:21:09.747481"
    },
    "collapsed": false
   },
   "outputs": [],
   "source": [
    "df.Ideology = df.Perpetrator.map(lambda x: ideology[x])"
   ]
  },
  {
   "cell_type": "code",
   "execution_count": 10,
   "metadata": {
    "ExecuteTime": {
     "end_time": "2017-06-16T14:21:09.766725",
     "start_time": "2017-06-16T14:21:09.751927"
    },
    "collapsed": false
   },
   "outputs": [
    {
     "data": {
      "text/html": [
       "<div>\n",
       "<table border=\"1\" class=\"dataframe\">\n",
       "  <thead>\n",
       "    <tr style=\"text-align: right;\">\n",
       "      <th></th>\n",
       "      <th>Date</th>\n",
       "      <th>Type</th>\n",
       "      <th>Dead</th>\n",
       "      <th>Injured</th>\n",
       "      <th>Location</th>\n",
       "      <th>Details</th>\n",
       "      <th>Perpetrator</th>\n",
       "      <th>Part of</th>\n",
       "      <th>Ideology</th>\n",
       "    </tr>\n",
       "  </thead>\n",
       "  <tbody>\n",
       "    <tr>\n",
       "      <th>0</th>\n",
       "      <td>1.01.2017</td>\n",
       "      <td>Shooting</td>\n",
       "      <td>39.0</td>\n",
       "      <td>70</td>\n",
       "      <td>Turkey</td>\n",
       "      <td>2017 Istanbul nightclub shooting: One gunman k...</td>\n",
       "      <td>Islamic State</td>\n",
       "      <td>Turkey–ISIL conflict</td>\n",
       "      <td>Islamic</td>\n",
       "    </tr>\n",
       "    <tr>\n",
       "      <th>1</th>\n",
       "      <td>1.01.2017</td>\n",
       "      <td>Bombing</td>\n",
       "      <td>0.0</td>\n",
       "      <td>6</td>\n",
       "      <td>Afghanistan</td>\n",
       "      <td>At least six people were hurt in an explosion ...</td>\n",
       "      <td>Taliban</td>\n",
       "      <td>War in Afghanistan</td>\n",
       "      <td>Islamic</td>\n",
       "    </tr>\n",
       "    <tr>\n",
       "      <th>2</th>\n",
       "      <td>1.01.2017</td>\n",
       "      <td>Shooting</td>\n",
       "      <td>1.0</td>\n",
       "      <td>0</td>\n",
       "      <td>Burundi</td>\n",
       "      <td>The Burundian environmental minister Emmanuel ...</td>\n",
       "      <td>Lone wolf</td>\n",
       "      <td>Burundian unrest</td>\n",
       "      <td>Lone wolf</td>\n",
       "    </tr>\n",
       "    <tr>\n",
       "      <th>3</th>\n",
       "      <td>1.01.2017</td>\n",
       "      <td>Bombing</td>\n",
       "      <td>0.0</td>\n",
       "      <td>6</td>\n",
       "      <td>Pakistan</td>\n",
       "      <td>Four Frontier Corps security personnel and two...</td>\n",
       "      <td>Lashkar-e-Jhangvi (suspected)</td>\n",
       "      <td>Sectarianism in Pakistan</td>\n",
       "      <td>Islamic</td>\n",
       "    </tr>\n",
       "    <tr>\n",
       "      <th>4</th>\n",
       "      <td>1.01.2017</td>\n",
       "      <td>Bombing</td>\n",
       "      <td>1.0</td>\n",
       "      <td>7</td>\n",
       "      <td>Algeria</td>\n",
       "      <td>A bomb killed a child and injured 7 others.[6]</td>\n",
       "      <td>Al-Qaeda in the Islamic Maghreb (suspected)</td>\n",
       "      <td>Insurgency in the Maghreb</td>\n",
       "      <td>Islamic</td>\n",
       "    </tr>\n",
       "  </tbody>\n",
       "</table>\n",
       "</div>"
      ],
      "text/plain": [
       "        Date      Type  Dead Injured     Location  \\\n",
       "0  1.01.2017  Shooting  39.0      70       Turkey   \n",
       "1  1.01.2017   Bombing   0.0       6  Afghanistan   \n",
       "2  1.01.2017  Shooting   1.0       0      Burundi   \n",
       "3  1.01.2017   Bombing   0.0       6     Pakistan   \n",
       "4  1.01.2017   Bombing   1.0       7      Algeria   \n",
       "\n",
       "                                             Details  \\\n",
       "0  2017 Istanbul nightclub shooting: One gunman k...   \n",
       "1  At least six people were hurt in an explosion ...   \n",
       "2  The Burundian environmental minister Emmanuel ...   \n",
       "3  Four Frontier Corps security personnel and two...   \n",
       "4     A bomb killed a child and injured 7 others.[6]   \n",
       "\n",
       "                                   Perpetrator                    Part of  \\\n",
       "0                                Islamic State       Turkey–ISIL conflict   \n",
       "1                                      Taliban         War in Afghanistan   \n",
       "2                                    Lone wolf           Burundian unrest   \n",
       "3                Lashkar-e-Jhangvi (suspected)   Sectarianism in Pakistan   \n",
       "4  Al-Qaeda in the Islamic Maghreb (suspected)  Insurgency in the Maghreb   \n",
       "\n",
       "    Ideology  \n",
       "0    Islamic  \n",
       "1    Islamic  \n",
       "2  Lone wolf  \n",
       "3    Islamic  \n",
       "4    Islamic  "
      ]
     },
     "execution_count": 10,
     "metadata": {},
     "output_type": "execute_result"
    }
   ],
   "source": [
    "df[\"Ideology\"] = df.Ideology\n",
    "df.head()"
   ]
  },
  {
   "cell_type": "code",
   "execution_count": 11,
   "metadata": {
    "ExecuteTime": {
     "end_time": "2017-06-16T14:21:09.773393",
     "start_time": "2017-06-16T14:21:09.768051"
    },
    "collapsed": false
   },
   "outputs": [
    {
     "data": {
      "text/plain": [
       "Islamic                519\n",
       "Communism               45\n",
       "Unknown                 22\n",
       "Lone wolf               18\n",
       "Kurds                   18\n",
       "Other                   14\n",
       "Anarchism               12\n",
       "Nationalism             11\n",
       "Russian Separatists     10\n",
       "Cartel                   5\n",
       "IRA                      5\n",
       "Kashmir                  3\n",
       "Anti-IRA                 2\n",
       "Nazism                   2\n",
       "Mapuche                  2\n",
       "Bundu                    1\n",
       "anti-islamic             1\n",
       "Racism                   1\n",
       "Mai Mai                  1\n",
       "Name: Perpetrator, dtype: int64"
      ]
     },
     "execution_count": 11,
     "metadata": {},
     "output_type": "execute_result"
    }
   ],
   "source": [
    "df.Ideology.value_counts()"
   ]
  },
  {
   "cell_type": "code",
   "execution_count": null,
   "metadata": {
    "collapsed": true
   },
   "outputs": [],
   "source": []
  }
 ],
 "metadata": {
  "anaconda-cloud": {},
  "kernelspec": {
   "display_name": "Python [conda root]",
   "language": "python",
   "name": "conda-root-py"
  },
  "language_info": {
   "codemirror_mode": {
    "name": "ipython",
    "version": 3
   },
   "file_extension": ".py",
   "mimetype": "text/x-python",
   "name": "python",
   "nbconvert_exporter": "python",
   "pygments_lexer": "ipython3",
   "version": "3.5.2"
  },
  "toc": {
   "colors": {
    "hover_highlight": "#DAA520",
    "running_highlight": "#FF0000",
    "selected_highlight": "#FFD700"
   },
   "moveMenuLeft": true,
   "nav_menu": {
    "height": "12px",
    "width": "252px"
   },
   "navigate_menu": true,
   "number_sections": true,
   "sideBar": true,
   "threshold": 4,
   "toc_cell": false,
   "toc_section_display": "block",
   "toc_window_display": false
  }
 },
 "nbformat": 4,
 "nbformat_minor": 2
}
